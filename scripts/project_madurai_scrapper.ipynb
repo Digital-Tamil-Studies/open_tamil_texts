{
 "cells": [
  {
   "cell_type": "code",
   "execution_count": null,
   "metadata": {},
   "outputs": [],
   "source": [
    "# Purpose: This script gets and saves project madurai works as html \n",
    "#          and text from: https://www.projectmadurai.org/pmworks.html\n",
    "# Date: Sept 2020\n",
    "# License: GPL-3.0 "
   ]
  },
  {
   "cell_type": "code",
   "execution_count": null,
   "metadata": {},
   "outputs": [],
   "source": [
    "# -*- coding: utf-8 -*-\n",
    "from urllib.request import urlopen\n",
    "from urllib.parse import quote  \n",
    "from bs4 import BeautifulSoup\n",
    "import numpy as np\n",
    "import pandas as pd\n",
    "import re\n",
    "import html2text\n",
    "import sys"
   ]
  },
  {
   "cell_type": "code",
   "execution_count": null,
   "metadata": {},
   "outputs": [],
   "source": [
    "def get_page(page_url):\n",
    "    page = urlopen(page_url)\n",
    "    soup = BeautifulSoup(page, \"html.parser\")\n",
    "    return soup"
   ]
  },
  {
   "cell_type": "code",
   "execution_count": null,
   "metadata": {},
   "outputs": [],
   "source": [
    "def get_file_names(html_links):\n",
    "    html_link_list  = []\n",
    "    for html_link in html_links:\n",
    "        html_link_text = html_link.text.strip()\n",
    "        if len(html_link_text) > 9 :\n",
    "            html_link_list.append(html_link_text)\n",
    "    return html_link_list"
   ]
  },
  {
   "cell_type": "code",
   "execution_count": null,
   "metadata": {},
   "outputs": [],
   "source": [
    "def save_file(file_path, text_content):\n",
    "    f = open(file_path, \"a\")\n",
    "    f.write(text_content)\n",
    "    f.close()"
   ]
  },
  {
   "cell_type": "code",
   "execution_count": null,
   "metadata": {},
   "outputs": [],
   "source": [
    "# Get all work entries\n",
    "page_url = \"https://www.projectmadurai.org/pmworks.html\"\n",
    "page = get_page(page_url)\n",
    "tables = page.findAll('table')\n",
    "main_table = tables[1]\n",
    "rows = main_table.findAll('tr')"
   ]
  },
  {
   "cell_type": "code",
   "execution_count": null,
   "metadata": {},
   "outputs": [],
   "source": [
    "# Get the metadata\n",
    "all_links = []\n",
    "all_metadata = []\n",
    "identifier = 1\n",
    "\n",
    "for row in rows:\n",
    "    metadata_dict = {}\n",
    "    columns = row.findAll('td')\n",
    "    if len(columns) == 6:\n",
    "        metadata_dict[\"identifier\"] = identifier\n",
    "        identifier = identifier + 1\n",
    "        project_madurai_id = columns[0].text.strip()\n",
    "        metadata_dict[\"identifier_pmid\"] = project_madurai_id\n",
    "        title = columns[1].text\n",
    "        title = title.replace('\\n',' ')\n",
    "        title = title.replace('\\t','')\n",
    "        metadata_dict[\"title\"] = title\n",
    "        creator = columns[2].text.strip()\n",
    "        metadata_dict[\"creator\"] = creator\n",
    "        subject = columns[3].text.strip()\n",
    "        metadata_dict[\"subject\"] = subject\n",
    "        html_links = columns[5].findAll('a')\n",
    "        html_links_list = get_file_names(html_links)\n",
    "        text_links_list = [f.replace('.html', '.txt') for f in html_links_list]\n",
    "        metadata_dict[\"rights\"] = \"public-domain or with due consent from respective authors\"\n",
    "        metadata_dict[\"source\"] = \"https://www.projectmadurai.org/pmworks.html\"\n",
    "        metadata_dict[\"file_names_html\"] = ' | '.join(html_links_list)\n",
    "        metadata_dict[\"text_links_list\"] = ' | '.join(text_links_list)\n",
    "        for item in html_links_list:\n",
    "            all_links.append(item)\n",
    "        all_metadata.append(metadata_dict)"
   ]
  },
  {
   "cell_type": "code",
   "execution_count": null,
   "metadata": {},
   "outputs": [],
   "source": [
    "df = pd.DataFrame(all_metadata) \n",
    "df.head(2)"
   ]
  },
  {
   "cell_type": "code",
   "execution_count": null,
   "metadata": {},
   "outputs": [],
   "source": [
    "df.to_csv(\"metadata_list.csv\", index=False)"
   ]
  },
  {
   "cell_type": "code",
   "execution_count": null,
   "metadata": {},
   "outputs": [],
   "source": [
    "sys.setrecursionlimit(25000)"
   ]
  },
  {
   "cell_type": "code",
   "execution_count": null,
   "metadata": {},
   "outputs": [],
   "source": [
    "for html_page in all_links:\n",
    "    if len(html_page) < 9:\n",
    "        print(\"WARNING: Not a valid html page : \" + html_page)\n",
    "        continue;\n",
    "    pmuni_url = \"https://www.projectmadurai.org/pm_etexts/utf8/\" + html_page\n",
    "    print(pmuni_url)\n",
    "    # save html\n",
    "    pmuni_page = get_page(pmuni_url)\n",
    "    save_file(\"html/\" + html_page, str(pmuni_page))\n",
    "    text = pmuni_page.get_text()\n",
    "    text_file_name = html_page.replace(\".html\", \".txt\")\n",
    "    save_file(\"text/\" + text_file_name, text)\n",
    "    print(html_page)"
   ]
  },
  {
   "cell_type": "code",
   "execution_count": null,
   "metadata": {},
   "outputs": [],
   "source": []
  }
 ],
 "metadata": {
  "kernelspec": {
   "display_name": "Python 3",
   "language": "python",
   "name": "python3"
  },
  "language_info": {
   "codemirror_mode": {
    "name": "ipython",
    "version": 3
   },
   "file_extension": ".py",
   "mimetype": "text/x-python",
   "name": "python",
   "nbconvert_exporter": "python",
   "pygments_lexer": "ipython3",
   "version": "3.8.2"
  }
 },
 "nbformat": 4,
 "nbformat_minor": 4
}
