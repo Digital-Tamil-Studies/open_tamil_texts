{
  "nbformat": 4,
  "nbformat_minor": 0,
  "metadata": {
    "colab": {
      "name": "traverse_google_drive.ipynb",
      "provenance": [],
      "collapsed_sections": []
    },
    "kernelspec": {
      "name": "python3",
      "display_name": "Python 3"
    }
  },
  "cells": [
    {
      "cell_type": "code",
      "metadata": {
        "id": "8WAfwATaAErY"
      },
      "source": [
        "# Purpose: This script recursively goes through book folders created by Kaniyam Foundation to extract text files and metadata\n",
        "# Date: Sept 2020\n",
        "# License: GPL-3.0 "
      ],
      "execution_count": 2,
      "outputs": []
    },
    {
      "cell_type": "code",
      "metadata": {
        "id": "zhY1cDrbTipi"
      },
      "source": [
        "!pip install -U -q PyDrive\n",
        "import os\n",
        "from projectpydrive.auth import GoogleAuth\n",
        "from pydrive.drive import GoogleDrive\n",
        "from google.colab import auth\n",
        "from oauth2client.client import GoogleCredentials\n",
        "import yaml\n",
        "import pandas as pd\n",
        "import numpy as np"
      ],
      "execution_count": null,
      "outputs": []
    },
    {
      "cell_type": "code",
      "metadata": {
        "id": "-0tNwDPMALSG"
      },
      "source": [
        "# 1. Authenticate and create the PyDrive client.\n",
        "auth.authenticate_user()\n",
        "gauth = GoogleAuth()\n",
        "gauth.credentials = GoogleCredentials.get_application_default()\n",
        "drive = GoogleDrive(gauth)"
      ],
      "execution_count": null,
      "outputs": []
    },
    {
      "cell_type": "code",
      "metadata": {
        "id": "4BkkwXItEGI3"
      },
      "source": [
        "# loop through the folder to find the text and yml metadata file, download them, return metadata\n",
        "def get_metadata(folder_id, folder_name):\n",
        "  metadata_info = {}\n",
        "  file_name = \"\"\n",
        "  file_list = drive.ListFile({'q': \"'%s' in parents and trashed=false\" % folder_id}).GetList()\n",
        "\n",
        "  for f in file_list:\n",
        "    file_ext = \"n/a\"\n",
        "    file_info = f['title'].split('.')\n",
        "\n",
        "    if len(file_info) >= 2:\n",
        "      file_ext = file_info[1]\n",
        "\n",
        "    if file_ext == 'txt': # if folder\n",
        "      print(f['title'])\n",
        "      downloaded = drive.CreateFile({'id':f['id']})   # replace the id with id of file you want to access\n",
        "      downloaded.GetContentFile(f['title'])\n",
        "      file_name = f['title']\n",
        "\n",
        "    elif file_ext == 'yaml':\n",
        "      downloaded = drive.CreateFile({'id':f['id']})   # replace the id with id of file you want to access\n",
        "      downloaded.GetContentFile(f['title'])\n",
        "\n",
        "      with open(f['title']) as metadata_file:\n",
        "        metadata_info = yaml.safe_load(metadata_file)\n",
        "        metadata_info['book_id'] = folder_name\n",
        "\n",
        "  metadata_info['file_name'] = file_name\n",
        "  return metadata_info\n"
      ],
      "execution_count": null,
      "outputs": []
    },
    {
      "cell_type": "code",
      "metadata": {
        "id": "lYUIZQS8DWvy"
      },
      "source": [
        "# go through google drive folders recursively\n",
        "def ListFolder(parent, metadata_list):\n",
        "  file_list = drive.ListFile({'q': \"'%s' in parents and trashed=false\" % parent}).GetList()\n",
        "  for f in file_list:\n",
        "    if f['mimeType']=='application/vnd.google-apps.folder': # if folder\n",
        "      metadata_info = get_metadata(f['id'], f['title'])\n",
        "      metadata_list.append(metadata_info)\n",
        "      metadata_info = ListFolder(f['id'], metadata_list)"
      ],
      "execution_count": null,
      "outputs": []
    },
    {
      "cell_type": "code",
      "metadata": {
        "id": "1dm2_azMDw01"
      },
      "source": [
        "# main\n",
        "metadata_list = []\n",
        "ListFolder('folder_Id', metadata_list)"
      ],
      "execution_count": null,
      "outputs": []
    },
    {
      "cell_type": "code",
      "metadata": {
        "id": "tS_dzUcBJk03"
      },
      "source": [
        "# load the list as dataframe\n",
        "df = pd.DataFrame(metadata_list) \n",
        "df.head(2)"
      ],
      "execution_count": null,
      "outputs": []
    },
    {
      "cell_type": "code",
      "metadata": {
        "id": "7Ml8UB0sXP9P"
      },
      "source": [
        "# Export the metadata\n",
        "df.to_csv(\"df_all.csv\", index=False)"
      ],
      "execution_count": null,
      "outputs": []
    },
    {
      "cell_type": "code",
      "metadata": {
        "id": "U51DY4OuREbo"
      },
      "source": [
        "# if it does not have a tamil and english title, then drop those rows\n",
        "columns = ['book_title', 'book_title_in_english']\n",
        "df1 = df.dropna(subset=columns, how='all')\n",
        "df1.to_csv(\"df1.csv\", index=False)"
      ],
      "execution_count": null,
      "outputs": []
    },
    {
      "cell_type": "code",
      "metadata": {
        "id": "LyJOMppSd58M"
      },
      "source": [
        "# If the text file is missing, then drop that row\n",
        "df2 = df1.loc[df1['file_name'] != \"\"]\n",
        "df2.to_csv(\"df2.csv\", index=False)"
      ],
      "execution_count": null,
      "outputs": []
    },
    {
      "cell_type": "code",
      "metadata": {
        "id": "VaGvGbNxNB2j"
      },
      "source": [
        "# Export the text files for download\n",
        "!zip -r /content/file.zip /content/*.txt"
      ],
      "execution_count": null,
      "outputs": []
    },
    {
      "cell_type": "code",
      "metadata": {
        "id": "00oz-hbcaSOo"
      },
      "source": [
        ""
      ],
      "execution_count": null,
      "outputs": []
    }
  ]
}